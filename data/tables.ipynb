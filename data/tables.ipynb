{
 "cells": [
  {
   "cell_type": "code",
   "execution_count": 3,
   "id": "unlikely-steering",
   "metadata": {},
   "outputs": [],
   "source": [
    "## Code for loading dataset to generate tables for blog (not part of blog post).\n",
    "import pandas as pd\n",
    "import numpy as np\n",
    "df = pd.read_csv(\"data/EmployeeSatisfactionIndex.csv\")\n",
    "df = df.drop(columns=['emp_id', \n",
    "                      'location', \n",
    "                      'education', \n",
    "                      'Unnamed: 0']).loc[(df['Dept'] == 'HR') | (df['Dept'] == 'Sales') | (df['Dept'] == 'Purchasing')]\n",
    "df['satisfied'] = df['satisfied'].replace({1: True, 0: False})\n",
    "# df"
   ]
  },
  {
   "cell_type": "code",
   "execution_count": 4,
   "id": "social-myanmar",
   "metadata": {},
   "outputs": [],
   "source": [
    "# complete df - original (no missingness)\n",
    "data = df.drop(columns=['rating', 'job_level', 'certifications', 'awards', 'onsite', 'salary','age'])\n",
    "\n",
    "complete_data = pd.DataFrame(data.drop(columns=['recruitment_type']).groupby('Dept')['satisfied'].value_counts()).unstack().T.transform(lambda x: (x / x.sum()).round(2))\n",
    "\n",
    "# show top 10 as output in blog \n",
    "data = data.tail(10).reset_index().drop(columns='index')\n",
    "# complete_data"
   ]
  },
  {
   "cell_type": "code",
   "execution_count": 5,
   "id": "later-fellowship",
   "metadata": {},
   "outputs": [],
   "source": [
    "#Insert df with pattern missingness\n",
    "\n",
    "# insert missing in sales dept\n",
    "df_mar = df.copy()\n",
    "df_mar.loc[((df_mar['Dept'] == \"Sales\") & (df_mar['recruitment_type'] == 'Recruitment Agency') | (df_mar['recruitment_type'] == 'On-Campus')),'satisfied'] = np.nan\n",
    "\n",
    "df_mar['satisfied'] = df_mar['satisfied'].replace({1: True, 0: False})\n",
    "\n",
    "# resulting DF percentages of responses (ignores the missing)\n",
    "df_mar = df_mar.drop(columns=['rating', 'job_level', 'certifications', 'awards', 'onsite', 'salary','age', 'recruitment_type'])\n",
    "missing_pattern = pd.DataFrame(df_mar.groupby('Dept')['satisfied'].value_counts()).unstack().T.transform(lambda x: (x / x.sum()).round(2))\n",
    "# missing_pattern"
   ]
  },
  {
   "cell_type": "code",
   "execution_count": 6,
   "id": "thousand-surprise",
   "metadata": {},
   "outputs": [
    {
     "data": {
      "text/html": [
       "<div>\n",
       "<style scoped>\n",
       "    .dataframe tbody tr th:only-of-type {\n",
       "        vertical-align: middle;\n",
       "    }\n",
       "\n",
       "    .dataframe tbody tr th {\n",
       "        vertical-align: top;\n",
       "    }\n",
       "\n",
       "    .dataframe thead th {\n",
       "        text-align: right;\n",
       "    }\n",
       "</style>\n",
       "<table border=\"1\" class=\"dataframe\">\n",
       "  <thead>\n",
       "    <tr style=\"text-align: right;\">\n",
       "      <th></th>\n",
       "      <th>Dept</th>\n",
       "      <th>recruitment_type</th>\n",
       "      <th>satisfied</th>\n",
       "    </tr>\n",
       "  </thead>\n",
       "  <tbody>\n",
       "    <tr>\n",
       "      <th>0</th>\n",
       "      <td>HR</td>\n",
       "      <td>Referral</td>\n",
       "      <td>True</td>\n",
       "    </tr>\n",
       "    <tr>\n",
       "      <th>3</th>\n",
       "      <td>Sales</td>\n",
       "      <td>On-Campus</td>\n",
       "      <td>True</td>\n",
       "    </tr>\n",
       "    <tr>\n",
       "      <th>4</th>\n",
       "      <td>HR</td>\n",
       "      <td>Recruitment Agency</td>\n",
       "      <td>True</td>\n",
       "    </tr>\n",
       "    <tr>\n",
       "      <th>5</th>\n",
       "      <td>Purchasing</td>\n",
       "      <td>Referral</td>\n",
       "      <td>True</td>\n",
       "    </tr>\n",
       "    <tr>\n",
       "      <th>6</th>\n",
       "      <td>Purchasing</td>\n",
       "      <td>Referral</td>\n",
       "      <td>False</td>\n",
       "    </tr>\n",
       "    <tr>\n",
       "      <th>...</th>\n",
       "      <td>...</td>\n",
       "      <td>...</td>\n",
       "      <td>...</td>\n",
       "    </tr>\n",
       "    <tr>\n",
       "      <th>489</th>\n",
       "      <td>HR</td>\n",
       "      <td>On-Campus</td>\n",
       "      <td>True</td>\n",
       "    </tr>\n",
       "    <tr>\n",
       "      <th>490</th>\n",
       "      <td>Purchasing</td>\n",
       "      <td>Recruitment Agency</td>\n",
       "      <td>NA</td>\n",
       "    </tr>\n",
       "    <tr>\n",
       "      <th>492</th>\n",
       "      <td>HR</td>\n",
       "      <td>On-Campus</td>\n",
       "      <td>True</td>\n",
       "    </tr>\n",
       "    <tr>\n",
       "      <th>494</th>\n",
       "      <td>Sales</td>\n",
       "      <td>Referral</td>\n",
       "      <td>True</td>\n",
       "    </tr>\n",
       "    <tr>\n",
       "      <th>495</th>\n",
       "      <td>HR</td>\n",
       "      <td>On-Campus</td>\n",
       "      <td>NA</td>\n",
       "    </tr>\n",
       "  </tbody>\n",
       "</table>\n",
       "<p>307 rows × 3 columns</p>\n",
       "</div>"
      ],
      "text/plain": [
       "           Dept    recruitment_type satisfied\n",
       "0            HR            Referral      True\n",
       "3         Sales           On-Campus      True\n",
       "4            HR  Recruitment Agency      True\n",
       "5    Purchasing            Referral      True\n",
       "6    Purchasing            Referral     False\n",
       "..          ...                 ...       ...\n",
       "489          HR           On-Campus      True\n",
       "490  Purchasing  Recruitment Agency        NA\n",
       "492          HR           On-Campus      True\n",
       "494       Sales            Referral      True\n",
       "495          HR           On-Campus        NA\n",
       "\n",
       "[307 rows x 3 columns]"
      ]
     },
     "execution_count": 6,
     "metadata": {},
     "output_type": "execute_result"
    }
   ],
   "source": [
    "# Insert df with random missingness\n",
    "\n",
    "df_mcar = df.copy()\n",
    "# num of missing cells to add (based on how many were added above)\n",
    "miss_no = df.loc[((df['Dept'] == \"Sales\") & (df['recruitment_type'] == 'Recruitment Agency') | (df['recruitment_type'] == 'On-Campus'))].shape[0]\n",
    "\n",
    "# insert random missing in satisfied column\n",
    "rows_to_update_addl = df_mcar.sample(miss_no, random_state=150).index # more to match total NaN count\n",
    "df_mcar.loc[rows_to_update_addl] = np.nan\n",
    "df_mcar['satisfied'] = df_mcar['satisfied'].replace({1: True, 0: False})\n",
    "\n",
    "# resulting DF percentages of responses (ignores the missing)\n",
    "df_mcar = df_mcar.drop(columns=['rating', 'job_level', 'certifications', 'awards', 'onsite', 'salary','age', 'recruitment_type'])\n",
    "missing_random = pd.DataFrame(df_mcar.groupby('Dept')['satisfied'].value_counts()).unstack().T.transform(lambda x: (x / x.sum()).round(2))\n",
    "# missing_random\n",
    "\n",
    "\n",
    "# data table with NA's\n",
    "data_missing = df.drop(columns=['rating', 'job_level', 'certifications', 'awards', 'onsite', 'salary','age'])\n",
    "data_missing.loc[495,'satisfied'] = 'NA'\n",
    "data_missing.loc[490,'satisfied'] = 'NA'\n",
    "data_missing"
   ]
  },
  {
   "cell_type": "code",
   "execution_count": null,
   "id": "defensive-imperial",
   "metadata": {},
   "outputs": [],
   "source": []
  },
  {
   "cell_type": "code",
   "execution_count": 7,
   "id": "requested-conditions",
   "metadata": {},
   "outputs": [],
   "source": [
    "data.to_csv('data.csv')"
   ]
  },
  {
   "cell_type": "code",
   "execution_count": 8,
   "id": "therapeutic-anatomy",
   "metadata": {},
   "outputs": [],
   "source": [
    "complete_data.to_csv('complete_data.csv')"
   ]
  },
  {
   "cell_type": "code",
   "execution_count": 9,
   "id": "devoted-organizer",
   "metadata": {},
   "outputs": [],
   "source": [
    "missing_random.to_csv('missing_random.csv')"
   ]
  },
  {
   "cell_type": "code",
   "execution_count": 10,
   "id": "silent-suffering",
   "metadata": {},
   "outputs": [],
   "source": [
    "missing_pattern.to_csv('missing_pattern.csv')"
   ]
  },
  {
   "cell_type": "code",
   "execution_count": null,
   "id": "equal-omega",
   "metadata": {},
   "outputs": [],
   "source": []
  }
 ],
 "metadata": {
  "kernelspec": {
   "display_name": "Python 3",
   "language": "python",
   "name": "python3"
  },
  "language_info": {
   "codemirror_mode": {
    "name": "ipython",
    "version": 3
   },
   "file_extension": ".py",
   "mimetype": "text/x-python",
   "name": "python",
   "nbconvert_exporter": "python",
   "pygments_lexer": "ipython3",
   "version": "3.8.8"
  }
 },
 "nbformat": 4,
 "nbformat_minor": 5
}
