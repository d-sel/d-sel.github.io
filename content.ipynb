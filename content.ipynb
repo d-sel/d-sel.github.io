{
 "cells": [
  {
   "cell_type": "code",
   "execution_count": 11,
   "metadata": {},
   "outputs": [],
   "source": [
    "## Generate table of examples\n",
    "import pandas as pd\n",
    "import numpy as np\n",
    "missing_pattern = pd.read_csv('data/missing_pattern.csv')\n",
    "data = pd.read_csv('data/data.csv')\n",
    "missing_random = pd.read_csv('data/missing_random.csv')"
   ]
  },
  {
   "cell_type": "markdown",
   "metadata": {},
   "source": [
    "### Missing Data: Why should we care and how can we deal with it?"
   ]
  },
  {
   "cell_type": "markdown",
   "metadata": {},
   "source": [
    "The vast majority of the time, we are trying to make conclusions about something using imperfect data. These imperfections can be in the form of typos, values that require additional calculations and missing data points. Typos and inconsistencies can be dealt with as we can ‘find and replace’ to clean them up and perform simple calculations to convert them to something that is meaningful for our purposes. However, with missing data, we cannot replace something that is not there. Plus, if we have to work with the given data, we have to make use of what we have.\n",
    "\n",
    "Missing data can be present under different names: as  blank space in a spreadsheet, any form of ‘N/A’ wording or even as the word ‘null’. \n",
    "If we have missing data, can we just ignore those rows and work with the rest? Although easy to do, this can affect our results.\n",
    "\n",
    "### Impact of Missing Data\n",
    "\n",
    "To illustrate how missing data can impact results, we will look at an example based off [Employee Job Satisfaction data from Kaggle.com](https://www.kaggle.com/mohamedharris/employee-satisfaction-index-dataset). We have a company employee survey and we want to determine which of the three departments has the most satisfied employees. The data shows the department the employee belongs to, how they were recruited, and their satisfaction response. Employees who were satisfied responded 'True' and those who weren't responded 'False'. Our data has 300 responses and 10 are shown here for context."
   ]
  },
  {
   "cell_type": "code",
   "execution_count": 59,
   "metadata": {},
   "outputs": [
    {
     "data": {
      "text/html": [
       "<div>\n",
       "<style scoped>\n",
       "    .dataframe tbody tr th:only-of-type {\n",
       "        vertical-align: middle;\n",
       "    }\n",
       "\n",
       "    .dataframe tbody tr th {\n",
       "        vertical-align: top;\n",
       "    }\n",
       "\n",
       "    .dataframe thead th {\n",
       "        text-align: right;\n",
       "    }\n",
       "</style>\n",
       "<table border=\"1\" class=\"dataframe\">\n",
       "  <thead>\n",
       "    <tr style=\"text-align: right;\">\n",
       "      <th></th>\n",
       "      <th>Dept</th>\n",
       "      <th>recruitment_type</th>\n",
       "      <th>satisfied</th>\n",
       "    </tr>\n",
       "  </thead>\n",
       "  <tbody>\n",
       "    <tr>\n",
       "      <th>0</th>\n",
       "      <td>Purchasing</td>\n",
       "      <td>Walk-in</td>\n",
       "      <td>False</td>\n",
       "    </tr>\n",
       "    <tr>\n",
       "      <th>1</th>\n",
       "      <td>HR</td>\n",
       "      <td>Walk-in</td>\n",
       "      <td>True</td>\n",
       "    </tr>\n",
       "    <tr>\n",
       "      <th>2</th>\n",
       "      <td>Purchasing</td>\n",
       "      <td>Recruitment Agency</td>\n",
       "      <td>False</td>\n",
       "    </tr>\n",
       "    <tr>\n",
       "      <th>3</th>\n",
       "      <td>HR</td>\n",
       "      <td>Walk-in</td>\n",
       "      <td>True</td>\n",
       "    </tr>\n",
       "    <tr>\n",
       "      <th>4</th>\n",
       "      <td>Sales</td>\n",
       "      <td>On-Campus</td>\n",
       "      <td>False</td>\n",
       "    </tr>\n",
       "    <tr>\n",
       "      <th>5</th>\n",
       "      <td>HR</td>\n",
       "      <td>On-Campus</td>\n",
       "      <td>True</td>\n",
       "    </tr>\n",
       "    <tr>\n",
       "      <th>6</th>\n",
       "      <td>Purchasing</td>\n",
       "      <td>Recruitment Agency</td>\n",
       "      <td>False</td>\n",
       "    </tr>\n",
       "    <tr>\n",
       "      <th>7</th>\n",
       "      <td>HR</td>\n",
       "      <td>On-Campus</td>\n",
       "      <td>True</td>\n",
       "    </tr>\n",
       "    <tr>\n",
       "      <th>8</th>\n",
       "      <td>Sales</td>\n",
       "      <td>Referral</td>\n",
       "      <td>True</td>\n",
       "    </tr>\n",
       "    <tr>\n",
       "      <th>9</th>\n",
       "      <td>HR</td>\n",
       "      <td>On-Campus</td>\n",
       "      <td>True</td>\n",
       "    </tr>\n",
       "  </tbody>\n",
       "</table>\n",
       "</div>"
      ],
      "text/plain": [
       "         Dept    recruitment_type  satisfied\n",
       "0  Purchasing             Walk-in      False\n",
       "1          HR             Walk-in       True\n",
       "2  Purchasing  Recruitment Agency      False\n",
       "3          HR             Walk-in       True\n",
       "4       Sales           On-Campus      False\n",
       "5          HR           On-Campus       True\n",
       "6  Purchasing  Recruitment Agency      False\n",
       "7          HR           On-Campus       True\n",
       "8       Sales            Referral       True\n",
       "9          HR           On-Campus       True"
      ]
     },
     "execution_count": 59,
     "metadata": {},
     "output_type": "execute_result"
    }
   ],
   "source": [
    "data"
   ]
  },
  {
   "cell_type": "markdown",
   "metadata": {},
   "source": [
    "The impact on results relates to the reason the data is missing:\n",
    "1)\t***Completely at random***: The chance of any particular data point missing is the same.  We cannot find any patterns to the missing data and can equally expect any of the rows or columns to have a missing data point. \n",
    "\n",
    "2)\t***Pattern within the data itself***: Data can be missing but have a pattern to it that can be identified from the data we have. For example, if we have data that is collected during the day, we may notice that during specific hours, we are missing certain columns in the data. We would be able to pinpoint this as we would have a column in our data identifying the time.\n",
    "\n",
    "3)\t***Pattern outside of our data***: Similar to the second type, data can be missing with a pattern, but it can be related to something that is not captured within our data columns. This is the most difficult to identify as we cannot see the pattern directly.   \n",
    "\n"
   ]
  },
  {
   "cell_type": "markdown",
   "metadata": {},
   "source": [
    "<u>Scenario 1:</u> Our survey data is complete! We have no missing data. "
   ]
  },
  {
   "cell_type": "code",
   "execution_count": 60,
   "metadata": {},
   "outputs": [
    {
     "data": {
      "text/html": [
       "<div>\n",
       "<style scoped>\n",
       "    .dataframe tbody tr th:only-of-type {\n",
       "        vertical-align: middle;\n",
       "    }\n",
       "\n",
       "    .dataframe tbody tr th {\n",
       "        vertical-align: top;\n",
       "    }\n",
       "\n",
       "    .dataframe thead th {\n",
       "        text-align: right;\n",
       "    }\n",
       "</style>\n",
       "<table border=\"1\" class=\"dataframe\">\n",
       "  <thead>\n",
       "    <tr style=\"text-align: right;\">\n",
       "      <th></th>\n",
       "      <th>Dept</th>\n",
       "      <th>HR</th>\n",
       "      <th>Purchasing</th>\n",
       "      <th>Sales</th>\n",
       "    </tr>\n",
       "    <tr>\n",
       "      <th></th>\n",
       "      <th>satisfied</th>\n",
       "      <th></th>\n",
       "      <th></th>\n",
       "      <th></th>\n",
       "    </tr>\n",
       "  </thead>\n",
       "  <tbody>\n",
       "    <tr>\n",
       "      <th rowspan=\"2\" valign=\"top\">satisfied</th>\n",
       "      <th>False</th>\n",
       "      <td>0.5</td>\n",
       "      <td>0.43</td>\n",
       "      <td>0.45</td>\n",
       "    </tr>\n",
       "    <tr>\n",
       "      <th>True</th>\n",
       "      <td>0.5</td>\n",
       "      <td>0.57</td>\n",
       "      <td>0.55</td>\n",
       "    </tr>\n",
       "  </tbody>\n",
       "</table>\n",
       "</div>"
      ],
      "text/plain": [
       "Dept                  HR  Purchasing  Sales\n",
       "          satisfied                        \n",
       "satisfied False      0.5        0.43   0.45\n",
       "          True       0.5        0.57   0.55"
      ]
     },
     "execution_count": 60,
     "metadata": {},
     "output_type": "execute_result"
    }
   ],
   "source": [
    "complete_data"
   ]
  },
  {
   "cell_type": "markdown",
   "metadata": {},
   "source": [
    "We have summarized the responses by department in the table above. We can see that the department responding with the highest satisfaction is Purchasing, with 57% of respondents indicating that they are satisfied at their work. Next was Sales with 55% and lastly, HR with exactly half reporting as satisfied."
   ]
  },
  {
   "cell_type": "markdown",
   "metadata": {},
   "source": [
    "<u>Scenario 2:</u> Our survey data has missing responses, but it's completely random."
   ]
  },
  {
   "cell_type": "code",
   "execution_count": 61,
   "metadata": {},
   "outputs": [
    {
     "data": {
      "text/html": [
       "<div>\n",
       "<style scoped>\n",
       "    .dataframe tbody tr th:only-of-type {\n",
       "        vertical-align: middle;\n",
       "    }\n",
       "\n",
       "    .dataframe tbody tr th {\n",
       "        vertical-align: top;\n",
       "    }\n",
       "\n",
       "    .dataframe thead th {\n",
       "        text-align: right;\n",
       "    }\n",
       "</style>\n",
       "<table border=\"1\" class=\"dataframe\">\n",
       "  <thead>\n",
       "    <tr style=\"text-align: right;\">\n",
       "      <th></th>\n",
       "      <th>Dept</th>\n",
       "      <th>HR</th>\n",
       "      <th>Purchasing</th>\n",
       "      <th>Sales</th>\n",
       "    </tr>\n",
       "    <tr>\n",
       "      <th></th>\n",
       "      <th>satisfied</th>\n",
       "      <th></th>\n",
       "      <th></th>\n",
       "      <th></th>\n",
       "    </tr>\n",
       "  </thead>\n",
       "  <tbody>\n",
       "    <tr>\n",
       "      <th rowspan=\"2\" valign=\"top\">satisfied</th>\n",
       "      <th>False</th>\n",
       "      <td>0.5</td>\n",
       "      <td>0.43</td>\n",
       "      <td>0.43</td>\n",
       "    </tr>\n",
       "    <tr>\n",
       "      <th>True</th>\n",
       "      <td>0.5</td>\n",
       "      <td>0.57</td>\n",
       "      <td>0.57</td>\n",
       "    </tr>\n",
       "  </tbody>\n",
       "</table>\n",
       "</div>"
      ],
      "text/plain": [
       "Dept                  HR  Purchasing  Sales\n",
       "          satisfied                        \n",
       "satisfied False      0.5        0.43   0.43\n",
       "          True       0.5        0.57   0.57"
      ]
     },
     "execution_count": 61,
     "metadata": {},
     "output_type": "execute_result"
    }
   ],
   "source": [
    "missing_random"
   ]
  },
  {
   "cell_type": "markdown",
   "metadata": {},
   "source": [
    "Compared to our first scenario where we have no missing data, our results are generally similar. The percentages will fluctuate, but they are not very different."
   ]
  },
  {
   "cell_type": "markdown",
   "metadata": {},
   "source": [
    "<u>Scenario 3:</u> Our survey data has missing responses, but there is a pattern to it. "
   ]
  },
  {
   "cell_type": "code",
   "execution_count": 62,
   "metadata": {},
   "outputs": [
    {
     "data": {
      "text/html": [
       "<div>\n",
       "<style scoped>\n",
       "    .dataframe tbody tr th:only-of-type {\n",
       "        vertical-align: middle;\n",
       "    }\n",
       "\n",
       "    .dataframe tbody tr th {\n",
       "        vertical-align: top;\n",
       "    }\n",
       "\n",
       "    .dataframe thead th {\n",
       "        text-align: right;\n",
       "    }\n",
       "</style>\n",
       "<table border=\"1\" class=\"dataframe\">\n",
       "  <thead>\n",
       "    <tr style=\"text-align: right;\">\n",
       "      <th></th>\n",
       "      <th>Dept</th>\n",
       "      <th>HR</th>\n",
       "      <th>Purchasing</th>\n",
       "      <th>Sales</th>\n",
       "    </tr>\n",
       "    <tr>\n",
       "      <th></th>\n",
       "      <th>satisfied</th>\n",
       "      <th></th>\n",
       "      <th></th>\n",
       "      <th></th>\n",
       "    </tr>\n",
       "  </thead>\n",
       "  <tbody>\n",
       "    <tr>\n",
       "      <th rowspan=\"2\" valign=\"top\">satisfied</th>\n",
       "      <th>False</th>\n",
       "      <td>0.49</td>\n",
       "      <td>0.45</td>\n",
       "      <td>0.39</td>\n",
       "    </tr>\n",
       "    <tr>\n",
       "      <th>True</th>\n",
       "      <td>0.51</td>\n",
       "      <td>0.55</td>\n",
       "      <td>0.61</td>\n",
       "    </tr>\n",
       "  </tbody>\n",
       "</table>\n",
       "</div>"
      ],
      "text/plain": [
       "Dept                   HR  Purchasing  Sales\n",
       "          satisfied                         \n",
       "satisfied False      0.49        0.45   0.39\n",
       "          True       0.51        0.55   0.61"
      ]
     },
     "execution_count": 62,
     "metadata": {},
     "output_type": "execute_result"
    }
   ],
   "source": [
    "missing_pattern"
   ]
  },
  {
   "cell_type": "markdown",
   "metadata": {},
   "source": [
    "In this scenario, there is a pattern to the missing data. If we could examine our data in detail, we would discover that most of the missing values were in the responses from Sales department employees who had been recruited On-Campus or using a Recruitment Agency. It turned out that they were more likely to not respond than to indicate that they were not satisfied because they were new hires. These patterns are usually context specific. A situation where there was a pattern outside of our data would be similar, except that we could not see it from the data we had. For instance, if there was a computer problem on the last day of the survey and parts of the responses from that day were not saved properly but we had no column indicating the day the employees filled out the survey.\n",
    "\n",
    "If we take the approach of ignoring rows with missing responses, we overstate our percentage of satisfied employees. We can see that the percentage of Sales employees reporting as satisfied is up to 61%, higher than both Scenario 1 and 2."
   ]
  },
  {
   "cell_type": "markdown",
   "metadata": {},
   "source": [
    "### Fixing Missing Data\n",
    "\n",
    "Once we have determined the type of missing data, we can now deal with it appropriately:\n",
    "- If our data is missing completely at random (scenario 2), then it is safe to ignore those rows. Prior to doing any sort of calculations with the data, we safely eliminate those rows and continue our work.\n",
    "\n",
    "- If our missing data has a pattern within or outside of the dataset (scenario 3), we cannot ignore the rows. Instead, we should fill them with an appropriate value. This process is called imputation and there are many approaches that can be taken, some of which are simpler and others that require statistical calculations.\n",
    "\n",
    "With numeric data, one of the simple approaches we can take is to populate the missing values of a column using the mean or mode (most frequent) of that column's existing data. An approach with text data is to group the rows and give all of the missing values within the same group the same value which helps to reflect some of the differences across groups which may provide more accuracy over using one value across the whole dataset.\n",
    "\n",
    "### Conclusion\n",
    "\n",
    "Missing data is something we all have to deal with; although it may not seem like an important aspect of our work, we must consider the importance of dealing with it properly or at least being aware of how our results may be affected. Once we classify our missing data, we can decide how to best deal with it. The simple approaches are usually sufficient, and if we decide that more complex methods are needed, we can explore more complex statistical approaches."
   ]
  }
 ],
 "metadata": {
  "kernelspec": {
   "display_name": "Python 3",
   "language": "python",
   "name": "python3"
  },
  "language_info": {
   "codemirror_mode": {
    "name": "ipython",
    "version": 3
   },
   "file_extension": ".py",
   "mimetype": "text/x-python",
   "name": "python",
   "nbconvert_exporter": "python",
   "pygments_lexer": "ipython3",
   "version": "3.8.8"
  }
 },
 "nbformat": 4,
 "nbformat_minor": 4
}
